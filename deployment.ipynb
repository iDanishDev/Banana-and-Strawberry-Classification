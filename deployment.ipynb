{
 "cells": [
  {
   "cell_type": "code",
   "execution_count": 6,
   "metadata": {},
   "outputs": [
    {
     "name": "stdout",
     "output_type": "stream",
     "text": [
      "<keras.engine.functional.Functional object at 0x0000022C1478FFD0>\n",
      "Model Loaded Successfully\n",
      " * Serving Flask app '__main__' (lazy loading)\n",
      " * Environment: production\n",
      "\u001b[31m   WARNING: This is a development server. Do not use it in a production deployment.\u001b[0m\n",
      "\u001b[2m   Use a production WSGI server instead.\u001b[0m\n",
      " * Debug mode: off\n"
     ]
    },
    {
     "name": "stderr",
     "output_type": "stream",
     "text": [
      " * Running on http://127.0.0.1:8080/ (Press CTRL+C to quit)\n",
      "127.0.0.1 - - [27/Nov/2022 20:47:05] \"GET / HTTP/1.1\" 200 -\n",
      "127.0.0.1 - - [27/Nov/2022 20:47:05] \"GET / HTTP/1.1\" 200 -\n",
      "127.0.0.1 - - [27/Nov/2022 20:47:05] \"GET /favicon.ico HTTP/1.1\" 404 -\n",
      "127.0.0.1 - - [27/Nov/2022 20:47:12] \"GET /prediction.html HTTP/1.1\" 200 -\n",
      "127.0.0.1 - - [27/Nov/2022 20:47:12] \"GET /prediction.html HTTP/1.1\" 200 -\n"
     ]
    },
    {
     "name": "stdout",
     "output_type": "stream",
     "text": [
      "Input posted =  Banana_2.jpg\n",
      "Predicting \n",
      "Image Recieved\n",
      "1/1 [==============================] - 2s 2s/step\n"
     ]
    },
    {
     "name": "stderr",
     "output_type": "stream",
     "text": [
      "127.0.0.1 - - [27/Nov/2022 20:47:22] \"POST /predict HTTP/1.1\" 200 -\n"
     ]
    },
    {
     "name": "stdout",
     "output_type": "stream",
     "text": [
      "Result  [[1.5561045e-07]]\n",
      "Input posted =  Banana_2.jpg\n",
      "Predicting \n",
      "Image Recieved\n",
      "1/1 [==============================] - 0s 68ms/step\n"
     ]
    },
    {
     "name": "stderr",
     "output_type": "stream",
     "text": [
      "127.0.0.1 - - [27/Nov/2022 20:47:22] \"POST /predict HTTP/1.1\" 200 -\n"
     ]
    },
    {
     "name": "stdout",
     "output_type": "stream",
     "text": [
      "Result  [[1.5561045e-07]]\n"
     ]
    },
    {
     "name": "stderr",
     "output_type": "stream",
     "text": [
      "127.0.0.1 - - [27/Nov/2022 20:47:25] \"GET /prediction.html HTTP/1.1\" 200 -\n"
     ]
    },
    {
     "name": "stdout",
     "output_type": "stream",
     "text": [
      "Input posted =  Strawberry_0.jpg\n",
      "Predicting \n",
      "Image Recieved\n",
      "1/1 [==============================] - 0s 73ms/step\n"
     ]
    },
    {
     "name": "stderr",
     "output_type": "stream",
     "text": [
      "127.0.0.1 - - [27/Nov/2022 20:47:32] \"POST /predict HTTP/1.1\" 200 -\n"
     ]
    },
    {
     "name": "stdout",
     "output_type": "stream",
     "text": [
      "Result  [[1.]]\n"
     ]
    },
    {
     "name": "stderr",
     "output_type": "stream",
     "text": [
      "127.0.0.1 - - [27/Nov/2022 20:47:34] \"GET /prediction.html HTTP/1.1\" 200 -\n"
     ]
    },
    {
     "name": "stdout",
     "output_type": "stream",
     "text": [
      "Input posted =  Banana_0.jpg\n",
      "Predicting \n",
      "Image Recieved\n",
      "1/1 [==============================] - 0s 92ms/step\n"
     ]
    },
    {
     "name": "stderr",
     "output_type": "stream",
     "text": [
      "127.0.0.1 - - [27/Nov/2022 20:47:42] \"POST /predict HTTP/1.1\" 200 -\n"
     ]
    },
    {
     "name": "stdout",
     "output_type": "stream",
     "text": [
      "Result  [[3.5769467e-11]]\n"
     ]
    }
   ],
   "source": [
    "from flask import Flask, render_template, request\n",
    "\n",
    "import numpy as np\n",
    "import os\n",
    "\n",
    "import cv2 as cv2\n",
    "import numpy as np\n",
    "import matplotlib.pyplot as plt\n",
    "\n",
    "from tensorflow.keras.preprocessing.image import load_img\n",
    "from tensorflow.keras.preprocessing.image import img_to_array\n",
    "from tensorflow.keras.models import load_model\n",
    "\n",
    "\n",
    "\n",
    "filepath = 'C:/Users/aaaya/Desktop/Workspace/Banana-Strawberry_Classification/model.h5'\n",
    "model = load_model(filepath)\n",
    "print(model)\n",
    "\n",
    "print(\"Model Loaded Successfully\")\n",
    "\n",
    "\n",
    "\n",
    "def classifyfruit(fruit):\n",
    "\n",
    "    image_process = load_img(fruit, target_size = (150,150))\n",
    "    print(\"Image Recieved\")\n",
    "\n",
    "    image_process = np.array(image_process)/255\n",
    "    image_process = np.expand_dims(image_process, axis=0)\n",
    "    \n",
    "    result = model.predict(image_process)\n",
    "\n",
    "    print(\"Result \",result)\n",
    "\n",
    "    if result <0.5:\n",
    "        pred = 0\n",
    "    else:\n",
    "        pred = 1\n",
    "\n",
    "\n",
    "\n",
    "\n",
    "    if(pred==0):\n",
    "        return \"Banana\",'banana.html'\n",
    "\n",
    "    elif(pred==1):\n",
    "        return \"Strawberry\",'strawberry.html'\n",
    "\n",
    "\n",
    "\n",
    "\n",
    "\n",
    "app = Flask(__name__)\n",
    "\n",
    "@app.route(\"/\", methods=['GET', 'POST'])\n",
    "def home():\n",
    "        return render_template('index.html')\n",
    "\n",
    "@app.route(\"/index.html\", methods=['GET', 'POST'])\n",
    "def home_re():\n",
    "        return render_template('index.html')\n",
    "\n",
    "@app.route(\"/About.html\", methods=['GET', 'POST'])\n",
    "def aboutus():\n",
    "        return render_template('About.html')\n",
    "\n",
    "\n",
    "@app.route(\"/prediction.html\", methods=['GET', 'POST'])\n",
    "def prediction():\n",
    "    return render_template(\"prediction.html\")\n",
    "    \n",
    " \n",
    "\n",
    "@app.route(\"/predict\", methods = ['GET','POST'])\n",
    "def predict():\n",
    "\n",
    "     if request.method == 'POST':\n",
    "        file = request.files['image']\n",
    "        filename = file.filename        \n",
    "        print(\"Input posted = \", filename)\n",
    "\n",
    "\n",
    "                \n",
    "        file_path = os.path.join('C:/Users/aaaya/Desktop/Workspace/Banana-Strawberry_Classification/assets/upload', filename)\n",
    "        file.save(file_path)\n",
    "\n",
    "        img = cv2.imread(file_path)\n",
    "        cv2.imwrite(file_path,img)\n",
    "       \n",
    "\n",
    "        print(\"Predicting \")\n",
    "        pred, output_page = classifyfruit(fruit=file_path)\n",
    "              \n",
    "        return render_template(output_page,pred_output = pred, user_image = file_path)\n",
    "    \n",
    "if __name__ == \"__main__\":\n",
    "    app.run(threaded=False,port=8080) "
   ]
  }
 ],
 "metadata": {
  "kernelspec": {
   "display_name": "Python 3.10.0 64-bit",
   "language": "python",
   "name": "python3"
  },
  "language_info": {
   "codemirror_mode": {
    "name": "ipython",
    "version": 3
   },
   "file_extension": ".py",
   "mimetype": "text/x-python",
   "name": "python",
   "nbconvert_exporter": "python",
   "pygments_lexer": "ipython3",
   "version": "3.10.0"
  },
  "orig_nbformat": 4,
  "vscode": {
   "interpreter": {
    "hash": "3d705a6a038193fd3b64072a75fd39ae7795e2726b39938d9c0a0dd429bbb596"
   }
  }
 },
 "nbformat": 4,
 "nbformat_minor": 2
}
